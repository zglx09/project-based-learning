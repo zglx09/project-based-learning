{
  "nbformat": 4,
  "nbformat_minor": 0,
  "metadata": {
    "colab": {
      "provenance": [],
      "toc_visible": true,
      "authorship_tag": "ABX9TyMMlFUmEkq27qqNYlNzj5Na",
      "include_colab_link": true
    },
    "kernelspec": {
      "name": "python3",
      "display_name": "Python 3"
    },
    "language_info": {
      "name": "python"
    }
  },
  "cells": [
    {
      "cell_type": "markdown",
      "metadata": {
        "id": "view-in-github",
        "colab_type": "text"
      },
      "source": [
        "<a href=\"https://colab.research.google.com/github/zglx09/project-based-learning/blob/main/python_api_w_pagination.ipynb\" target=\"_parent\"><img src=\"https://colab.research.google.com/assets/colab-badge.svg\" alt=\"Open In Colab\"/></a>"
      ]
    },
    {
      "cell_type": "markdown",
      "source": [
        "**Objective:** \\\n",
        "An API pull that handles pagination, to get details of all projects associated with an Initiative within Linear.\n",
        "\n",
        "**Additional Information:** \\\n",
        "Within Linear, A project management tool:\n",
        "\n",
        "*   The Project's module sits under Initiatives.\n",
        "*   An Initiative can have multiple Projects, and a Project can belong to multiple Initiative.\n",
        "*   Linear's API uses GraphQL."
      ],
      "metadata": {
        "id": "TTXl40tTBUPS"
      }
    },
    {
      "cell_type": "code",
      "source": [
        "import requests\n",
        "\n",
        "# API endpoint and headers\n",
        "url = \"https://api.linear.app/graphql\"\n",
        "headers = {\n",
        "    \"Authorization\": \"{linear_api_key}\",\n",
        "    \"Content-Type\": \"application/json\"\n",
        "}\n",
        "\n",
        "def fetch_all_initiatives():\n",
        "    all_initiatives_to_proj = []\n",
        "    page_cursor = None\n",
        "\n",
        "    while True:\n",
        "        # Construct the GraphQL query\n",
        "        query = {\n",
        "            \"query\": \"\"\"\n",
        "            query ($first: Int, $after: String) {\n",
        "                initiativeToProjects(first: $first, after: $after) {\n",
        "                    nodes {\n",
        "                        id\n",
        "                        initiative { id name status description createdAt targetDate creator { id }}\n",
        "                        project { id name }\n",
        "                    }\n",
        "                    pageInfo {\n",
        "                        hasNextPage\n",
        "                        endCursor\n",
        "                    }\n",
        "                }\n",
        "            }\n",
        "            \"\"\",\n",
        "            \"variables\": {\n",
        "                \"first\": 30,\n",
        "                \"after\": page_cursor\n",
        "            }\n",
        "        }\n",
        "\n",
        "        # Make the POST request to the API\n",
        "        response = requests.post(url, headers=headers, json=query)\n",
        "\n",
        "        if response.status_code == 200:\n",
        "            data = response.json()\n",
        "\n",
        "            # Extract initiatives and projects data\n",
        "            initiatives_to_proj = data.get('data', {}).get('initiativeToProjects', {}).get('nodes', [])\n",
        "            all_initiatives_to_proj.extend(initiatives_to_proj)\n",
        "\n",
        "            # Handle pagination\n",
        "            page_info = data.get('data', {}).get('initiativeToProjects', {}).get('pageInfo', {})\n",
        "            page_cursor = page_info.get('endCursor')\n",
        "\n",
        "            # Stop if there are no more pages\n",
        "            if not page_info.get('hasNextPage'):\n",
        "                break\n",
        "        else:\n",
        "            # Handle the error case\n",
        "            return {'error': f'Request failed with status code {response.status_code}', 'response': response.text}\n",
        "\n",
        "    # Return the fetched initiatives and projects\n",
        "    return {'initiatives_projs': all_initiatives_to_proj}\n",
        "\n",
        "# Call the function and print the results\n",
        "result = fetch_all_initiatives()\n",
        "print(result)"
      ],
      "metadata": {
        "id": "SSCcA5lE6f1a"
      },
      "execution_count": null,
      "outputs": []
    }
  ]
}